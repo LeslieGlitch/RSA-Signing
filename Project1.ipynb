{
 "cells": [
  {
   "cell_type": "code",
   "execution_count": 1,
   "id": "5283a46f-ef72-4602-81ed-562014b49166",
   "metadata": {},
   "outputs": [],
   "source": [
    "# Algorithms Project 1: RSA\n",
    "# Objective: Implement RSA Encryption and apply it to digital signature"
   ]
  },
  {
   "cell_type": "code",
   "execution_count": 2,
   "id": "02f04331-a1bf-452e-acb0-c6d21f625ca6",
   "metadata": {},
   "outputs": [],
   "source": [
    "# Import libraries\n",
    "import secrets as secrets\n",
    "import random as rand\n",
    "import hashlib"
   ]
  },
  {
   "cell_type": "code",
   "execution_count": 3,
   "id": "c3fd6044-af4c-4861-af4b-95d7e9e64a82",
   "metadata": {},
   "outputs": [],
   "source": [
    "# Performs Fermat's Primality Test on a given value\n",
    "# @param potentialPrime The number being tested\n",
    "# @param iterations The number of iterations, higher takes longer but is more accurate\n",
    "# @return True if potentialPrime *might* be prime; False if proven composite\n",
    "def prime_test(potentialPrime, iterations = 5):\n",
    "    # test for small values\n",
    "    if potentialPrime <= 4:\n",
    "        return not ((potentialPrime % 2) == 0)\n",
    "    \n",
    "    # perform test iterations\n",
    "    for _ in range(iterations):\n",
    "        a = rand.randint(2, potentialPrime - 2)\n",
    "        if pow(a, potentialPrime - 1, potentialPrime) != 1:\n",
    "            return False\n",
    "\n",
    "    # If no test has proven composite, number is probably prime\n",
    "    return True"
   ]
  },
  {
   "cell_type": "code",
   "execution_count": 4,
   "id": "1fd3718d-ad00-4d5b-83c6-6a67be778ae1",
   "metadata": {},
   "outputs": [],
   "source": [
    "# Generates a single prime number with a bit length (>= 128) and (< 256)\n",
    "# @return Random prime number\n",
    "def generate_prime():\n",
    "    while True:\n",
    "        # generate a random number\n",
    "        prime = pow(2, 128) + secrets.randbelow(pow(2, 256) - pow(2, 128))\n",
    "\n",
    "        # Test if probably prime\n",
    "        if prime_test(prime):\n",
    "            return prime"
   ]
  },
  {
   "cell_type": "code",
   "execution_count": 5,
   "id": "60e7d671-172b-4a5d-ae33-8d11f0d4dd81",
   "metadata": {},
   "outputs": [],
   "source": [
    "# Saves two values to a text file, each value on a separate line\n",
    "# @param fileName The values will be saved to \"fileName.txt\"\n",
    "# @param val1 The value to appear on the first line\n",
    "# @param val2 The value to appear on the second line\n",
    "def save_value_pair(fileName, val1, val2):\n",
    "    # Open a file in write mode ('w')\n",
    "    with open((fileName + '.txt'), 'w') as file:\n",
    "        # Save values on separate lines\n",
    "        file.write(f\"{val1}\\n\")\n",
    "        file.write(f\"{val2}\")\n",
    "\n",
    "    # Confirm success\n",
    "    print(\"Saved integer pair to `\" + fileName + \".txt`\")\n",
    "    return"
   ]
  },
  {
   "cell_type": "code",
   "execution_count": 6,
   "id": "53307ef2-bc73-4921-b026-fa2a8df4ef91",
   "metadata": {},
   "outputs": [],
   "source": [
    "# Finds the greatest common denominator using Extended Euclidean Algorithm\n",
    "# @param a First number to be compared\n",
    "# @param b Second number to be compared\n",
    "# @return gcd Greatest common divisor of a and b\n",
    "# @return x, y Bezout coefficients\n",
    "def gcd_with_bezout(a, b):\n",
    "    # base case\n",
    "    if a == 0:\n",
    "        return b, 0, 1\n",
    "\n",
    "    # recursion\n",
    "    gcd, x1, y1 = gcd_with_bezout(b % a, a)\n",
    "\n",
    "    # update bezout coefficients\n",
    "    x = y1 - (b//a) * x1\n",
    "    y = x1\n",
    "    \n",
    "    return gcd, x, y"
   ]
  },
  {
   "cell_type": "code",
   "execution_count": 7,
   "id": "4d180ccd-b873-4d09-910d-22129513c4b7",
   "metadata": {},
   "outputs": [],
   "source": [
    "# Generates two pairs of keys from two prime numbers using Extended Euclidean Algorithm\n",
    "def generate_RSA_key():\n",
    "    # Generate pair of primes, save to file\n",
    "    p = generate_prime()\n",
    "    q = generate_prime()\n",
    "    save_value_pair(\"p_q\", p, q)\n",
    "    \n",
    "    # Solve for lambda(n)\n",
    "    temp, _, _ = gcd_with_bezout(p-1, q-1)\n",
    "    lambda_n = ((p-1) * (q-1)) // temp\n",
    "\n",
    "    # Solve for public/private keys\n",
    "    n = p*q\n",
    "    e = pow(2, 16) + 1\n",
    "    _, _, d = gcd_with_bezout(lambda_n, e)\n",
    "\n",
    "    # Save keys\n",
    "    save_value_pair(\"e_n\", e, n)\n",
    "    save_value_pair(\"d_n\", d, n)\n",
    "\n",
    "    # Error if de % lambda(n) != 1\n",
    "    if (d*e % lambda_n != 1):\n",
    "        print(\"Error: [de % lambda(n) != 1]!\")\n",
    "    return"
   ]
  },
  {
   "cell_type": "code",
   "execution_count": 8,
   "id": "b13a380b-6286-4d2b-a64b-4093938ab20a",
   "metadata": {},
   "outputs": [],
   "source": [
    "# Sign a message and save to a new file\n",
    "# @param doc filename of message\n",
    "# @param key filename of private key\n",
    "def Signing(doc, key):\n",
    "    # Initialize variables\n",
    "    message = \"\"\n",
    "    d = \"\"\n",
    "    n = \"\"\n",
    "    \n",
    "    # Open files in read mode ('r')\n",
    "    with open(doc, 'r') as file:\n",
    "        # Read message\n",
    "        lines = file.readlines()\n",
    "        message = lines[0]\n",
    "    with open(key, 'r') as file:\n",
    "        # Read message\n",
    "        lines = file.readlines()\n",
    "        d = int(lines[0], 10)\n",
    "        n = int(lines[1], 10)\n",
    "\n",
    "    # Hash message\n",
    "    hash = hashlib.sha256(message.encode(\"utf-8\"))\n",
    "    m = hash.hexdigest()\n",
    "\n",
    "    # Sign Message\n",
    "    signature = int(pow(int(m, 16), d, n))\n",
    "    print(\"Message:\", message)\n",
    "\n",
    "    # Save to file\n",
    "    with open(doc + \".signed\", 'w') as file:\n",
    "        # Save values on separate lines\n",
    "        file.write(message + \"\\n\")\n",
    "        file.write(f\"{signature}\")"
   ]
  },
  {
   "cell_type": "code",
   "execution_count": 9,
   "id": "17ebbfab-1893-4d5a-9ef1-bb1f4f6c578c",
   "metadata": {},
   "outputs": [],
   "source": [
    "# Verify that a message comes from a particular person\n",
    "# @param doc filename of signed message\n",
    "# @param key filename of public key\n",
    "def Verification(doc, key):\n",
    "    print(\"Verifying signed file \\\"\" + doc + \"\\\"...\")\n",
    "    # Initialize variables\n",
    "    message = \"\"\n",
    "    signature = \"\"\n",
    "    e = \"\"\n",
    "    n = \"\"\n",
    "    \n",
    "    # Open files in read mode ('r')\n",
    "    with open(doc, 'r') as file:\n",
    "        # Read message\n",
    "        lines = file.readlines()\n",
    "        message = lines[0].strip()\n",
    "        signature = int(lines[1], 10)\n",
    "    with open(key, 'r') as file:\n",
    "        # Read message\n",
    "        lines = file.readlines()\n",
    "        e = int(lines[0], 10)\n",
    "        n = int(lines[1], 10)\n",
    "\n",
    "    # Generate hashes\n",
    "    hashFromSignature = pow(signature, e, n)\n",
    "    hashFromMessage = int(hashlib.sha256(message.encode(\"utf-8\")).hexdigest(), 16)\n",
    "\n",
    "    # Compare hashes\n",
    "    if hashFromMessage == hashFromSignature:\n",
    "        # Success!\n",
    "        print(\"Signature successfully verified!\\n\")\n",
    "    else:\n",
    "        # Failure...\n",
    "        print(\"Signature has FAILED verification.\\n\")"
   ]
  },
  {
   "cell_type": "code",
   "execution_count": 10,
   "id": "6aa1e220-3b94-4bf1-9582-9dbe50a38c7b",
   "metadata": {},
   "outputs": [],
   "source": [
    "# Edits the message contents of a signed message\n",
    "def tamper(filename, fakeMessage):\n",
    "    # Open files in read/write mode ('r+')\n",
    "    with open(filename, 'r+') as file:\n",
    "        # Read message\n",
    "        lines = file.readlines()\n",
    "        signature = lines[1]\n",
    "\n",
    "        # Clear file contents\n",
    "        file.truncate(0)\n",
    "        \n",
    "        # Save new message and old signature\n",
    "        file.write(fakeMessage)\n",
    "        file.write(\"\\n\")\n",
    "        file.write(signature)\n",
    "\n",
    "    # Confirm message tampering\n",
    "    print(\"Signed message tampered; now reads:\", fakeMessage, \"\\n\")"
   ]
  },
  {
   "cell_type": "code",
   "execution_count": 11,
   "id": "c653a468-2aa0-4858-be02-5521228698b3",
   "metadata": {},
   "outputs": [],
   "source": [
    "# Main function for Project 1\n",
    "def CPSC_435_Project1(part, task=\"\", fileName=\"\"):\n",
    "    if part == 1:\n",
    "        # Project Part 1\n",
    "        # Generates two sufficiently large primes and two pairs of keys, all saved in respective files:\n",
    "        # `p_q.txt` holds both prime numbers (would be deleted in practice)\n",
    "        # `e_n.txt` holds public encryption key\n",
    "        # `d_n.txt` holds private decryption key\n",
    "        generate_RSA_key()\n",
    "    else:\n",
    "        # Project Part 2\n",
    "        # Generate and verify digital signatures with a SHA-256 hash\n",
    "        if \"s\" in task:\n",
    "            # Project Part 2a\n",
    "            doc = fileName # message to be signed\n",
    "            key = \"d_n.txt\" # private key\n",
    "\n",
    "            # sign document\n",
    "            Signing(doc, key)\n",
    "        else:\n",
    "            # Project Part 2b\n",
    "            # do verification\n",
    "            doc = fileName # signed filename\n",
    "            key = \"e_n.txt\" # public key\n",
    "            Verification(doc, key)\n",
    "\n",
    "    if part == 1:\n",
    "        print(\"Keys generated!\")\n",
    "    elif \"s\" in task:\n",
    "        print(\"Message\", \"\\\"\" + fileName + \"\\\"\", \"signed!\\n\")\n",
    "    return"
   ]
  },
  {
   "cell_type": "code",
   "execution_count": 12,
   "id": "21d4858d-4b37-46e1-ab19-d5d196d90f68",
   "metadata": {},
   "outputs": [
    {
     "name": "stdout",
     "output_type": "stream",
     "text": [
      "Saved integer pair to `p_q.txt`\n",
      "Saved integer pair to `e_n.txt`\n",
      "Saved integer pair to `d_n.txt`\n",
      "Keys generated!\n"
     ]
    }
   ],
   "source": [
    "# Generate a set of keys\n",
    "CPSC_435_Project1(1)"
   ]
  },
  {
   "cell_type": "code",
   "execution_count": 13,
   "id": "4edafedd-dadc-4f3c-a1be-7961fef5b749",
   "metadata": {},
   "outputs": [
    {
     "name": "stdout",
     "output_type": "stream",
     "text": [
      "Message: We're no strangers to love. You know the rules, and so do I. A full commitment's what I'm thinking of. You wouldn't get this from any other guy.\n",
      "Message \"message1.txt\" signed!\n",
      "\n",
      "Verifying signed file \"message1.txt.signed\"...\n",
      "Signature successfully verified!\n",
      "\n"
     ]
    }
   ],
   "source": [
    "# Correct message example\n",
    "\n",
    "# Sign message\n",
    "CPSC_435_Project1(2, \"s\", \"message1.txt\")\n",
    "\n",
    "# Verify valid message\n",
    "CPSC_435_Project1(2, \"d\", \"message1.txt.signed\")"
   ]
  },
  {
   "cell_type": "code",
   "execution_count": 14,
   "id": "36239ceb-b452-4f8c-ac6f-439191b71ad7",
   "metadata": {},
   "outputs": [
    {
     "name": "stdout",
     "output_type": "stream",
     "text": [
      "Message: There once was a ship that put to see and the name of that ship was a Billy O' Tea!\n",
      "Message \"message2.txt\" signed!\n",
      "\n",
      "Signed message tampered; now reads: There once was a ship that put to see and the name of that ship was a Jolly Sardine! \n",
      "\n",
      "Verifying signed file \"message2.txt.signed\"...\n",
      "Signature has FAILED verification.\n",
      "\n"
     ]
    }
   ],
   "source": [
    "# Tampered message example\n",
    "\n",
    "# Sign message\n",
    "CPSC_435_Project1(2, \"s\", \"message2.txt\")\n",
    "\n",
    "# Tamper with message\n",
    "fakeMessage = \"There once was a ship that put to see and the name of that ship was a Jolly Sardine!\"\n",
    "tamper(\"message2.txt.signed\", fakeMessage)\n",
    "\n",
    "# Verify tampered message\n",
    "CPSC_435_Project1(2, \"d\", \"message2.txt.signed\")"
   ]
  }
 ],
 "metadata": {
  "kernelspec": {
   "display_name": "Python 3 (ipykernel)",
   "language": "python",
   "name": "python3"
  },
  "language_info": {
   "codemirror_mode": {
    "name": "ipython",
    "version": 3
   },
   "file_extension": ".py",
   "mimetype": "text/x-python",
   "name": "python",
   "nbconvert_exporter": "python",
   "pygments_lexer": "ipython3",
   "version": "3.11.5"
  }
 },
 "nbformat": 4,
 "nbformat_minor": 5
}
